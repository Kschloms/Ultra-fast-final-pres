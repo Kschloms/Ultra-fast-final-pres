{
 "cells": [
  {
   "cell_type": "code",
   "execution_count": 28,
   "id": "3e3900f8",
   "metadata": {},
   "outputs": [],
   "source": [
    "import numpy as np\n",
    "from scipy.integrate import quad\n",
    "from scipy.integrate import cumulative_trapezoid"
   ]
  },
  {
   "cell_type": "code",
   "execution_count": 29,
   "id": "8ee5953d",
   "metadata": {},
   "outputs": [],
   "source": [
    "class simulation2:\n",
    "    def __init__(self, k_array, E0, A_func, A0, omega, t0, t, t_step):\n",
    "        self.k_grid = np.array(k_array)\n",
    "        self.E0 = E0\n",
    "        self.A = A_func\n",
    "        self.A0 = A0\n",
    "        self.omega = omega\n",
    "        self.t0 = t0\n",
    "        self.t = t\n",
    "        self.t_step = t_step\n",
    "        self.t_array = np.linspace(t0,t,t_step)\n",
    "    def fourier_phi(self,k):\n",
    "        return 2**(5/2) / np.sqrt(np.pi) * 1/(np.dot(k, k)+1)**2/np.sqrt(4*np.pi)\n",
    "    def inner(self, t_prime,k):\n",
    "        term1 = np.dot(k, k) / 2 * t_prime\n",
    "        term2 = np.dot(k, self.A0 * np.sin(self.omega * t_prime) * np.array([1.0, 0.0, 0.0])) / self.omega\n",
    "        term3 = self.A0**2 / 4 * t_prime\n",
    "        term4 = self.A0**2 / 8 / self.omega * np.sin(2 * self.omega * t_prime)\n",
    "        return term1 + term2 + term3 + term4\n",
    "    \n",
    "    def inner2(self, k):\n",
    "        def phase(t_pp):\n",
    "            A_vals = self.A(t_pp)  # shape (N, 3)\n",
    "            total = A_vals + k\n",
    "            return np.sum(total * total, axis=1)  # |k + A(t)|^2 for each time\n",
    "\n",
    "        phase_array = phase(self.t_array)\n",
    "        \n",
    "        cum_int =  cumulative_trapezoid(phase_array, self.t_array, initial=0)\n",
    "        return cum_int\n",
    "\n",
    "    def outer(self,t_prime,k):\n",
    "        A_val = self.A(np.array(t_prime))\n",
    "        def exp_tot (t_prime):\n",
    "            return np.exp(1j* self.inner(t_prime,k)/2 -1j*self.E0 *(t_prime-self.t0))\n",
    "        return np.dot(k, A_val) * exp_tot(t_prime)\n",
    "    \n",
    "    def time_integral(self,k):\n",
    "        t_start = self.t0\n",
    "        t_end = self.t\n",
    "\n",
    "        def f_tot(t_prime):\n",
    "            return self.outer(t_prime,k)\n",
    "        def f_real (t_prime):\n",
    "            return np.real( f_tot(t_prime))\n",
    "        def f_imag (t_prime):\n",
    "            return np.imag(f_tot(t_prime))\n",
    "        \n",
    "        # Integrate real and imaginary parts separately\n",
    "        real_integral, _ = quad(f_real, t_start, t_end)\n",
    "        imag_integral, _ = quad(f_imag, t_start, t_end)\n",
    "\n",
    "        # Combine into complex result\n",
    "        complex_integral = real_integral + 1j * imag_integral\n",
    "\n",
    "        return -1j * self.fourier_phi(k)*complex_integral\n",
    "    \n",
    "    def calc_matrix(self):\n",
    "        results = []\n",
    "        for k in self.k_grid:\n",
    "            res = self.time_integral(k)\n",
    "            results.append(np.abs(res)**2)\n",
    "        results = np.array(results)\n",
    "        return results.reshape(len(np.unique(self.k_grid[:,0])),\n",
    "                           len(np.unique(self.k_grid[:,1])),\n",
    "                           len(np.unique(self.k_grid[:,2])))\n",
    "\n",
    "    \n",
    "\n",
    "\n"
   ]
  },
  {
   "cell_type": "code",
   "execution_count": 30,
   "id": "12b0d313",
   "metadata": {},
   "outputs": [],
   "source": [
    "I = 1e-2/3.51 #au\n",
    "omega_L = 0.057 #au\n",
    "A0 = np.sqrt(I)/omega_L\n",
    "E0 = -0.5 #au\n",
    "eps = 0\n",
    "\n",
    "def A(t):\n",
    "    t = np.asarray(t)\n",
    "    print(t)\n",
    "    sin_t = np.sin(omega_L * t)\n",
    "    A_vals = np.zeros((len(t), 3))  # shape (N, 3)\n",
    "\n",
    "    A_vals[:, 0] = 0.0\n",
    "    A_vals[:, 1] = sin_t * np.sin(omega_L * t) * eps\n",
    "    A_vals[:, 2] = sin_t * np.cos(omega_L * t)\n",
    "\n",
    "    return A0 / np.sqrt(1 + eps**2) * A_vals\n",
    "\n",
    "def A2(t):\n",
    "    return A0/np.sqrt(1+eps**2) * np.sin(omega_L * t) * np.array([ 0.0,np.sin(omega_L * t)*eps, np.cos(omega_L * t)])\n",
    "\n",
    "\n",
    "k_x = np.linspace(0, 1, 30)  # 11 Werte von -5 bis 5\n",
    "k_y = np.linspace(0, 1, 3)\n",
    "k_z = np.linspace(0, 5, 60)\n",
    "\n",
    "# Erzeuge das Gitter\n",
    "X,Y,Z = np.meshgrid(k_x, k_y,k_z)\n",
    "k_grid = np.stack([X.ravel(), Y.ravel(), Z.ravel()], axis=-1)\n"
   ]
  },
  {
   "cell_type": "code",
   "execution_count": 34,
   "id": "9d262fd3",
   "metadata": {},
   "outputs": [
    {
     "name": "stdout",
     "output_type": "stream",
     "text": [
      "[8]\n"
     ]
    },
    {
     "data": {
      "text/plain": [
       "array([[0.       , 0.       , 0.3702283]])"
      ]
     },
     "execution_count": 34,
     "metadata": {},
     "output_type": "execute_result"
    }
   ],
   "source": [
    "A(np.array([8]))"
   ]
  },
  {
   "cell_type": "code",
   "execution_count": 36,
   "id": "c66f660f",
   "metadata": {},
   "outputs": [
    {
     "data": {
      "text/plain": [
       "array([0.       , 0.       , 0.3702283])"
      ]
     },
     "execution_count": 36,
     "metadata": {},
     "output_type": "execute_result"
    }
   ],
   "source": [
    "A2(8)"
   ]
  },
  {
   "cell_type": "code",
   "execution_count": 31,
   "id": "e7f1b180",
   "metadata": {},
   "outputs": [],
   "source": [
    "\n",
    "sim2 = simulation2(k_grid,E0,A,A0,omega_L,0,2,10)\n",
    "#sim2.calc_matrix()\n",
    "#sim2.inner(np.array([1,0,0]))\n",
    "#sim2.t_array"
   ]
  },
  {
   "cell_type": "code",
   "execution_count": 32,
   "id": "1a230afa",
   "metadata": {},
   "outputs": [
    {
     "name": "stdout",
     "output_type": "stream",
     "text": [
      "1.0\n"
     ]
    },
    {
     "ename": "TypeError",
     "evalue": "len() of unsized object",
     "output_type": "error",
     "traceback": [
      "\u001b[0;31m---------------------------------------------------------------------------\u001b[0m",
      "\u001b[0;31mTypeError\u001b[0m                                 Traceback (most recent call last)",
      "Cell \u001b[0;32mIn[32], line 4\u001b[0m\n\u001b[1;32m      1\u001b[0m \u001b[38;5;28;01mimport\u001b[39;00m \u001b[38;5;21;01mmatplotlib\u001b[39;00m\u001b[38;5;21;01m.\u001b[39;00m\u001b[38;5;21;01mpyplot\u001b[39;00m \u001b[38;5;28;01mas\u001b[39;00m \u001b[38;5;21;01mplt\u001b[39;00m\n\u001b[1;32m      3\u001b[0m \u001b[38;5;66;03m# Assuming `matrix` is your result from `calc_matrix()`\u001b[39;00m\n\u001b[0;32m----> 4\u001b[0m matrix \u001b[38;5;241m=\u001b[39m \u001b[43msim2\u001b[49m\u001b[38;5;241;43m.\u001b[39;49m\u001b[43mcalc_matrix\u001b[49m\u001b[43m(\u001b[49m\u001b[43m)\u001b[49m\n\u001b[1;32m      6\u001b[0m \u001b[38;5;66;03m# Slice at k_z = 0 (only one slice in this case)\u001b[39;00m\n\u001b[1;32m      7\u001b[0m plt\u001b[38;5;241m.\u001b[39mimshow(matrix[:, \u001b[38;5;241m0\u001b[39m, :], extent\u001b[38;5;241m=\u001b[39m(k_x[\u001b[38;5;241m0\u001b[39m], k_x[\u001b[38;5;241m-\u001b[39m\u001b[38;5;241m1\u001b[39m], k_z[\u001b[38;5;241m0\u001b[39m], k_z[\u001b[38;5;241m-\u001b[39m\u001b[38;5;241m1\u001b[39m]), origin\u001b[38;5;241m=\u001b[39m\u001b[38;5;124m'\u001b[39m\u001b[38;5;124mlower\u001b[39m\u001b[38;5;124m'\u001b[39m, cmap\u001b[38;5;241m=\u001b[39m\u001b[38;5;124m'\u001b[39m\u001b[38;5;124mviridis\u001b[39m\u001b[38;5;124m'\u001b[39m)\n",
      "Cell \u001b[0;32mIn[29], line 61\u001b[0m, in \u001b[0;36msimulation2.calc_matrix\u001b[0;34m(self)\u001b[0m\n\u001b[1;32m     59\u001b[0m results \u001b[38;5;241m=\u001b[39m []\n\u001b[1;32m     60\u001b[0m \u001b[38;5;28;01mfor\u001b[39;00m k \u001b[38;5;129;01min\u001b[39;00m \u001b[38;5;28mself\u001b[39m\u001b[38;5;241m.\u001b[39mk_grid:\n\u001b[0;32m---> 61\u001b[0m     res \u001b[38;5;241m=\u001b[39m \u001b[38;5;28;43mself\u001b[39;49m\u001b[38;5;241;43m.\u001b[39;49m\u001b[43mtime_integral\u001b[49m\u001b[43m(\u001b[49m\u001b[43mk\u001b[49m\u001b[43m)\u001b[49m\n\u001b[1;32m     62\u001b[0m     results\u001b[38;5;241m.\u001b[39mappend(np\u001b[38;5;241m.\u001b[39mabs(res)\u001b[38;5;241m*\u001b[39m\u001b[38;5;241m*\u001b[39m\u001b[38;5;241m2\u001b[39m)\n\u001b[1;32m     63\u001b[0m results \u001b[38;5;241m=\u001b[39m np\u001b[38;5;241m.\u001b[39marray(results)\n",
      "Cell \u001b[0;32mIn[29], line 50\u001b[0m, in \u001b[0;36msimulation2.time_integral\u001b[0;34m(self, k)\u001b[0m\n\u001b[1;32m     47\u001b[0m     \u001b[38;5;28;01mreturn\u001b[39;00m np\u001b[38;5;241m.\u001b[39mimag(f_tot(t_prime))\n\u001b[1;32m     49\u001b[0m \u001b[38;5;66;03m# Integrate real and imaginary parts separately\u001b[39;00m\n\u001b[0;32m---> 50\u001b[0m real_integral, _ \u001b[38;5;241m=\u001b[39m \u001b[43mquad\u001b[49m\u001b[43m(\u001b[49m\u001b[43mf_real\u001b[49m\u001b[43m,\u001b[49m\u001b[43m \u001b[49m\u001b[43mt_start\u001b[49m\u001b[43m,\u001b[49m\u001b[43m \u001b[49m\u001b[43mt_end\u001b[49m\u001b[43m)\u001b[49m\n\u001b[1;32m     51\u001b[0m imag_integral, _ \u001b[38;5;241m=\u001b[39m quad(f_imag, t_start, t_end)\n\u001b[1;32m     53\u001b[0m \u001b[38;5;66;03m# Combine into complex result\u001b[39;00m\n",
      "File \u001b[0;32m~/Library/Python/3.9/lib/python/site-packages/scipy/integrate/_quadpack_py.py:463\u001b[0m, in \u001b[0;36mquad\u001b[0;34m(func, a, b, args, full_output, epsabs, epsrel, limit, points, weight, wvar, wopts, maxp1, limlst, complex_func)\u001b[0m\n\u001b[1;32m    460\u001b[0m     \u001b[38;5;28;01mreturn\u001b[39;00m retval\n\u001b[1;32m    462\u001b[0m \u001b[38;5;28;01mif\u001b[39;00m weight \u001b[38;5;129;01mis\u001b[39;00m \u001b[38;5;28;01mNone\u001b[39;00m:\n\u001b[0;32m--> 463\u001b[0m     retval \u001b[38;5;241m=\u001b[39m \u001b[43m_quad\u001b[49m\u001b[43m(\u001b[49m\u001b[43mfunc\u001b[49m\u001b[43m,\u001b[49m\u001b[43m \u001b[49m\u001b[43ma\u001b[49m\u001b[43m,\u001b[49m\u001b[43m \u001b[49m\u001b[43mb\u001b[49m\u001b[43m,\u001b[49m\u001b[43m \u001b[49m\u001b[43margs\u001b[49m\u001b[43m,\u001b[49m\u001b[43m \u001b[49m\u001b[43mfull_output\u001b[49m\u001b[43m,\u001b[49m\u001b[43m \u001b[49m\u001b[43mepsabs\u001b[49m\u001b[43m,\u001b[49m\u001b[43m \u001b[49m\u001b[43mepsrel\u001b[49m\u001b[43m,\u001b[49m\u001b[43m \u001b[49m\u001b[43mlimit\u001b[49m\u001b[43m,\u001b[49m\n\u001b[1;32m    464\u001b[0m \u001b[43m                   \u001b[49m\u001b[43mpoints\u001b[49m\u001b[43m)\u001b[49m\n\u001b[1;32m    465\u001b[0m \u001b[38;5;28;01melse\u001b[39;00m:\n\u001b[1;32m    466\u001b[0m     \u001b[38;5;28;01mif\u001b[39;00m points \u001b[38;5;129;01mis\u001b[39;00m \u001b[38;5;129;01mnot\u001b[39;00m \u001b[38;5;28;01mNone\u001b[39;00m:\n",
      "File \u001b[0;32m~/Library/Python/3.9/lib/python/site-packages/scipy/integrate/_quadpack_py.py:575\u001b[0m, in \u001b[0;36m_quad\u001b[0;34m(func, a, b, args, full_output, epsabs, epsrel, limit, points)\u001b[0m\n\u001b[1;32m    573\u001b[0m \u001b[38;5;28;01mif\u001b[39;00m points \u001b[38;5;129;01mis\u001b[39;00m \u001b[38;5;28;01mNone\u001b[39;00m:\n\u001b[1;32m    574\u001b[0m     \u001b[38;5;28;01mif\u001b[39;00m infbounds \u001b[38;5;241m==\u001b[39m \u001b[38;5;241m0\u001b[39m:\n\u001b[0;32m--> 575\u001b[0m         \u001b[38;5;28;01mreturn\u001b[39;00m \u001b[43m_quadpack\u001b[49m\u001b[38;5;241;43m.\u001b[39;49m\u001b[43m_qagse\u001b[49m\u001b[43m(\u001b[49m\u001b[43mfunc\u001b[49m\u001b[43m,\u001b[49m\u001b[43ma\u001b[49m\u001b[43m,\u001b[49m\u001b[43mb\u001b[49m\u001b[43m,\u001b[49m\u001b[43margs\u001b[49m\u001b[43m,\u001b[49m\u001b[43mfull_output\u001b[49m\u001b[43m,\u001b[49m\u001b[43mepsabs\u001b[49m\u001b[43m,\u001b[49m\u001b[43mepsrel\u001b[49m\u001b[43m,\u001b[49m\u001b[43mlimit\u001b[49m\u001b[43m)\u001b[49m\n\u001b[1;32m    576\u001b[0m     \u001b[38;5;28;01melse\u001b[39;00m:\n\u001b[1;32m    577\u001b[0m         \u001b[38;5;28;01mreturn\u001b[39;00m _quadpack\u001b[38;5;241m.\u001b[39m_qagie(func,bound,infbounds,args,full_output,epsabs,epsrel,limit)\n",
      "Cell \u001b[0;32mIn[29], line 45\u001b[0m, in \u001b[0;36msimulation2.time_integral.<locals>.f_real\u001b[0;34m(t_prime)\u001b[0m\n\u001b[1;32m     44\u001b[0m \u001b[38;5;28;01mdef\u001b[39;00m \u001b[38;5;21mf_real\u001b[39m (t_prime):\n\u001b[0;32m---> 45\u001b[0m     \u001b[38;5;28;01mreturn\u001b[39;00m np\u001b[38;5;241m.\u001b[39mreal( \u001b[43mf_tot\u001b[49m\u001b[43m(\u001b[49m\u001b[43mt_prime\u001b[49m\u001b[43m)\u001b[49m)\n",
      "Cell \u001b[0;32mIn[29], line 43\u001b[0m, in \u001b[0;36msimulation2.time_integral.<locals>.f_tot\u001b[0;34m(t_prime)\u001b[0m\n\u001b[1;32m     42\u001b[0m \u001b[38;5;28;01mdef\u001b[39;00m \u001b[38;5;21mf_tot\u001b[39m(t_prime):\n\u001b[0;32m---> 43\u001b[0m     \u001b[38;5;28;01mreturn\u001b[39;00m \u001b[38;5;28;43mself\u001b[39;49m\u001b[38;5;241;43m.\u001b[39;49m\u001b[43mouter\u001b[49m\u001b[43m(\u001b[49m\u001b[43mt_prime\u001b[49m\u001b[43m,\u001b[49m\u001b[43mk\u001b[49m\u001b[43m)\u001b[49m\n",
      "Cell \u001b[0;32mIn[29], line 33\u001b[0m, in \u001b[0;36msimulation2.outer\u001b[0;34m(self, t_prime, k)\u001b[0m\n\u001b[1;32m     32\u001b[0m \u001b[38;5;28;01mdef\u001b[39;00m \u001b[38;5;21mouter\u001b[39m(\u001b[38;5;28mself\u001b[39m,t_prime,k):\n\u001b[0;32m---> 33\u001b[0m     A_val \u001b[38;5;241m=\u001b[39m \u001b[38;5;28;43mself\u001b[39;49m\u001b[38;5;241;43m.\u001b[39;49m\u001b[43mA\u001b[49m\u001b[43m(\u001b[49m\u001b[43mnp\u001b[49m\u001b[38;5;241;43m.\u001b[39;49m\u001b[43marray\u001b[49m\u001b[43m(\u001b[49m\u001b[43mt_prime\u001b[49m\u001b[43m)\u001b[49m\u001b[43m)\u001b[49m\n\u001b[1;32m     34\u001b[0m     \u001b[38;5;28;01mdef\u001b[39;00m \u001b[38;5;21mexp_tot\u001b[39m (t_prime):\n\u001b[1;32m     35\u001b[0m         \u001b[38;5;28;01mreturn\u001b[39;00m np\u001b[38;5;241m.\u001b[39mexp(\u001b[38;5;241m1\u001b[39mj\u001b[38;5;241m*\u001b[39m \u001b[38;5;28mself\u001b[39m\u001b[38;5;241m.\u001b[39minner(t_prime,k)\u001b[38;5;241m/\u001b[39m\u001b[38;5;241m2\u001b[39m \u001b[38;5;241m-\u001b[39m\u001b[38;5;241m1\u001b[39mj\u001b[38;5;241m*\u001b[39m\u001b[38;5;28mself\u001b[39m\u001b[38;5;241m.\u001b[39mE0 \u001b[38;5;241m*\u001b[39m(t_prime\u001b[38;5;241m-\u001b[39m\u001b[38;5;28mself\u001b[39m\u001b[38;5;241m.\u001b[39mt0))\n",
      "Cell \u001b[0;32mIn[30], line 11\u001b[0m, in \u001b[0;36mA\u001b[0;34m(t)\u001b[0m\n\u001b[1;32m      9\u001b[0m \u001b[38;5;28mprint\u001b[39m(t)\n\u001b[1;32m     10\u001b[0m sin_t \u001b[38;5;241m=\u001b[39m np\u001b[38;5;241m.\u001b[39msin(omega_L \u001b[38;5;241m*\u001b[39m t)\n\u001b[0;32m---> 11\u001b[0m A_vals \u001b[38;5;241m=\u001b[39m np\u001b[38;5;241m.\u001b[39mzeros((\u001b[38;5;28;43mlen\u001b[39;49m\u001b[43m(\u001b[49m\u001b[43mt\u001b[49m\u001b[43m)\u001b[49m, \u001b[38;5;241m3\u001b[39m))  \u001b[38;5;66;03m# shape (N, 3)\u001b[39;00m\n\u001b[1;32m     13\u001b[0m A_vals[:, \u001b[38;5;241m0\u001b[39m] \u001b[38;5;241m=\u001b[39m \u001b[38;5;241m0.0\u001b[39m\n\u001b[1;32m     14\u001b[0m A_vals[:, \u001b[38;5;241m1\u001b[39m] \u001b[38;5;241m=\u001b[39m sin_t \u001b[38;5;241m*\u001b[39m np\u001b[38;5;241m.\u001b[39msin(omega_L \u001b[38;5;241m*\u001b[39m t) \u001b[38;5;241m*\u001b[39m eps\n",
      "\u001b[0;31mTypeError\u001b[0m: len() of unsized object"
     ]
    }
   ],
   "source": [
    "import matplotlib.pyplot as plt\n",
    "\n",
    "# Assuming `matrix` is your result from `calc_matrix()`\n",
    "matrix = sim2.calc_matrix()\n",
    "\n",
    "# Slice at k_z = 0 (only one slice in this case)\n",
    "plt.imshow(matrix[:, 0, :], extent=(k_x[0], k_x[-1], k_z[0], k_z[-1]), origin='lower', cmap='viridis')\n",
    "plt.colorbar(label='|Amplitude|²')\n",
    "plt.xlabel('$k_x$')\n",
    "plt.ylabel('$k_z$')\n",
    "plt.title('Momentum Amplitude Squared')\n",
    "plt.show()\n"
   ]
  },
  {
   "cell_type": "code",
   "execution_count": null,
   "id": "3612f48b",
   "metadata": {},
   "outputs": [
    {
     "ename": "NameError",
     "evalue": "name 'matrix' is not defined",
     "output_type": "error",
     "traceback": [
      "\u001b[0;31m---------------------------------------------------------------------------\u001b[0m",
      "\u001b[0;31mNameError\u001b[0m                                 Traceback (most recent call last)",
      "Cell \u001b[0;32mIn[9], line 1\u001b[0m\n\u001b[0;32m----> 1\u001b[0m plt\u001b[38;5;241m.\u001b[39mplot(\u001b[43mmatrix\u001b[49m[\u001b[38;5;241m0\u001b[39m, \u001b[38;5;241m0\u001b[39m, :])\n",
      "\u001b[0;31mNameError\u001b[0m: name 'matrix' is not defined"
     ]
    }
   ],
   "source": [
    "plt.plot(matrix[0, 0, :])"
   ]
  },
  {
   "cell_type": "code",
   "execution_count": null,
   "id": "9274842f",
   "metadata": {},
   "outputs": [
    {
     "ename": "TypeError",
     "evalue": "len() of unsized object",
     "output_type": "error",
     "traceback": [
      "\u001b[0;31m---------------------------------------------------------------------------\u001b[0m",
      "\u001b[0;31mTypeError\u001b[0m                                 Traceback (most recent call last)",
      "Cell \u001b[0;32mIn[10], line 4\u001b[0m\n\u001b[1;32m      1\u001b[0m \u001b[38;5;28;01mimport\u001b[39;00m \u001b[38;5;21;01mmatplotlib\u001b[39;00m\u001b[38;5;21;01m.\u001b[39;00m\u001b[38;5;21;01mpyplot\u001b[39;00m \u001b[38;5;28;01mas\u001b[39;00m \u001b[38;5;21;01mplt\u001b[39;00m\n\u001b[1;32m      3\u001b[0m \u001b[38;5;66;03m# Assuming `matrix` is your result from `calc_matrix()`\u001b[39;00m\n\u001b[0;32m----> 4\u001b[0m matrix \u001b[38;5;241m=\u001b[39m \u001b[43msim2\u001b[49m\u001b[38;5;241;43m.\u001b[39;49m\u001b[43mcalc_matrix\u001b[49m\u001b[43m(\u001b[49m\u001b[43m)\u001b[49m\n\u001b[1;32m      6\u001b[0m \u001b[38;5;66;03m# Slice at k_z = 0 (only one slice in this case)\u001b[39;00m\n\u001b[1;32m      7\u001b[0m plt\u001b[38;5;241m.\u001b[39mimshow(matrix[:, :, \u001b[38;5;241m0\u001b[39m], extent\u001b[38;5;241m=\u001b[39m(k_x[\u001b[38;5;241m0\u001b[39m], k_x[\u001b[38;5;241m-\u001b[39m\u001b[38;5;241m1\u001b[39m], k_y[\u001b[38;5;241m0\u001b[39m], k_y[\u001b[38;5;241m-\u001b[39m\u001b[38;5;241m1\u001b[39m]), origin\u001b[38;5;241m=\u001b[39m\u001b[38;5;124m'\u001b[39m\u001b[38;5;124mlower\u001b[39m\u001b[38;5;124m'\u001b[39m, cmap\u001b[38;5;241m=\u001b[39m\u001b[38;5;124m'\u001b[39m\u001b[38;5;124mviridis\u001b[39m\u001b[38;5;124m'\u001b[39m)\n",
      "Cell \u001b[0;32mIn[2], line 61\u001b[0m, in \u001b[0;36msimulation2.calc_matrix\u001b[0;34m(self)\u001b[0m\n\u001b[1;32m     59\u001b[0m results \u001b[38;5;241m=\u001b[39m []\n\u001b[1;32m     60\u001b[0m \u001b[38;5;28;01mfor\u001b[39;00m k \u001b[38;5;129;01min\u001b[39;00m \u001b[38;5;28mself\u001b[39m\u001b[38;5;241m.\u001b[39mk_grid:\n\u001b[0;32m---> 61\u001b[0m     res \u001b[38;5;241m=\u001b[39m \u001b[38;5;28;43mself\u001b[39;49m\u001b[38;5;241;43m.\u001b[39;49m\u001b[43mphase_integral\u001b[49m\u001b[43m(\u001b[49m\u001b[43mk\u001b[49m\u001b[43m)\u001b[49m\n\u001b[1;32m     62\u001b[0m     results\u001b[38;5;241m.\u001b[39mappend(np\u001b[38;5;241m.\u001b[39mabs(res)\u001b[38;5;241m*\u001b[39m\u001b[38;5;241m*\u001b[39m\u001b[38;5;241m2\u001b[39m)\n\u001b[1;32m     63\u001b[0m results \u001b[38;5;241m=\u001b[39m np\u001b[38;5;241m.\u001b[39marray(results)\n",
      "Cell \u001b[0;32mIn[2], line 50\u001b[0m, in \u001b[0;36msimulation2.phase_integral\u001b[0;34m(self, k)\u001b[0m\n\u001b[1;32m     47\u001b[0m     \u001b[38;5;28;01mreturn\u001b[39;00m np\u001b[38;5;241m.\u001b[39mimag(f_tot(t_prime))\n\u001b[1;32m     49\u001b[0m \u001b[38;5;66;03m# Integrate real and imaginary parts separately\u001b[39;00m\n\u001b[0;32m---> 50\u001b[0m real_integral, _ \u001b[38;5;241m=\u001b[39m \u001b[43mquad\u001b[49m\u001b[43m(\u001b[49m\u001b[43mf_real\u001b[49m\u001b[43m,\u001b[49m\u001b[43m \u001b[49m\u001b[43mt_start\u001b[49m\u001b[43m,\u001b[49m\u001b[43m \u001b[49m\u001b[43mt_end\u001b[49m\u001b[43m)\u001b[49m\n\u001b[1;32m     51\u001b[0m imag_integral, _ \u001b[38;5;241m=\u001b[39m quad(f_imag, t_start, t_end)\n\u001b[1;32m     53\u001b[0m \u001b[38;5;66;03m# Combine into complex result\u001b[39;00m\n",
      "File \u001b[0;32m~/Library/Python/3.9/lib/python/site-packages/scipy/integrate/_quadpack_py.py:463\u001b[0m, in \u001b[0;36mquad\u001b[0;34m(func, a, b, args, full_output, epsabs, epsrel, limit, points, weight, wvar, wopts, maxp1, limlst, complex_func)\u001b[0m\n\u001b[1;32m    460\u001b[0m     \u001b[38;5;28;01mreturn\u001b[39;00m retval\n\u001b[1;32m    462\u001b[0m \u001b[38;5;28;01mif\u001b[39;00m weight \u001b[38;5;129;01mis\u001b[39;00m \u001b[38;5;28;01mNone\u001b[39;00m:\n\u001b[0;32m--> 463\u001b[0m     retval \u001b[38;5;241m=\u001b[39m \u001b[43m_quad\u001b[49m\u001b[43m(\u001b[49m\u001b[43mfunc\u001b[49m\u001b[43m,\u001b[49m\u001b[43m \u001b[49m\u001b[43ma\u001b[49m\u001b[43m,\u001b[49m\u001b[43m \u001b[49m\u001b[43mb\u001b[49m\u001b[43m,\u001b[49m\u001b[43m \u001b[49m\u001b[43margs\u001b[49m\u001b[43m,\u001b[49m\u001b[43m \u001b[49m\u001b[43mfull_output\u001b[49m\u001b[43m,\u001b[49m\u001b[43m \u001b[49m\u001b[43mepsabs\u001b[49m\u001b[43m,\u001b[49m\u001b[43m \u001b[49m\u001b[43mepsrel\u001b[49m\u001b[43m,\u001b[49m\u001b[43m \u001b[49m\u001b[43mlimit\u001b[49m\u001b[43m,\u001b[49m\n\u001b[1;32m    464\u001b[0m \u001b[43m                   \u001b[49m\u001b[43mpoints\u001b[49m\u001b[43m)\u001b[49m\n\u001b[1;32m    465\u001b[0m \u001b[38;5;28;01melse\u001b[39;00m:\n\u001b[1;32m    466\u001b[0m     \u001b[38;5;28;01mif\u001b[39;00m points \u001b[38;5;129;01mis\u001b[39;00m \u001b[38;5;129;01mnot\u001b[39;00m \u001b[38;5;28;01mNone\u001b[39;00m:\n",
      "File \u001b[0;32m~/Library/Python/3.9/lib/python/site-packages/scipy/integrate/_quadpack_py.py:575\u001b[0m, in \u001b[0;36m_quad\u001b[0;34m(func, a, b, args, full_output, epsabs, epsrel, limit, points)\u001b[0m\n\u001b[1;32m    573\u001b[0m \u001b[38;5;28;01mif\u001b[39;00m points \u001b[38;5;129;01mis\u001b[39;00m \u001b[38;5;28;01mNone\u001b[39;00m:\n\u001b[1;32m    574\u001b[0m     \u001b[38;5;28;01mif\u001b[39;00m infbounds \u001b[38;5;241m==\u001b[39m \u001b[38;5;241m0\u001b[39m:\n\u001b[0;32m--> 575\u001b[0m         \u001b[38;5;28;01mreturn\u001b[39;00m \u001b[43m_quadpack\u001b[49m\u001b[38;5;241;43m.\u001b[39;49m\u001b[43m_qagse\u001b[49m\u001b[43m(\u001b[49m\u001b[43mfunc\u001b[49m\u001b[43m,\u001b[49m\u001b[43ma\u001b[49m\u001b[43m,\u001b[49m\u001b[43mb\u001b[49m\u001b[43m,\u001b[49m\u001b[43margs\u001b[49m\u001b[43m,\u001b[49m\u001b[43mfull_output\u001b[49m\u001b[43m,\u001b[49m\u001b[43mepsabs\u001b[49m\u001b[43m,\u001b[49m\u001b[43mepsrel\u001b[49m\u001b[43m,\u001b[49m\u001b[43mlimit\u001b[49m\u001b[43m)\u001b[49m\n\u001b[1;32m    576\u001b[0m     \u001b[38;5;28;01melse\u001b[39;00m:\n\u001b[1;32m    577\u001b[0m         \u001b[38;5;28;01mreturn\u001b[39;00m _quadpack\u001b[38;5;241m.\u001b[39m_qagie(func,bound,infbounds,args,full_output,epsabs,epsrel,limit)\n",
      "Cell \u001b[0;32mIn[2], line 45\u001b[0m, in \u001b[0;36msimulation2.phase_integral.<locals>.f_real\u001b[0;34m(t_prime)\u001b[0m\n\u001b[1;32m     44\u001b[0m \u001b[38;5;28;01mdef\u001b[39;00m \u001b[38;5;21mf_real\u001b[39m (t_prime):\n\u001b[0;32m---> 45\u001b[0m     \u001b[38;5;28;01mreturn\u001b[39;00m np\u001b[38;5;241m.\u001b[39mreal( \u001b[43mf_tot\u001b[49m\u001b[43m(\u001b[49m\u001b[43mt_prime\u001b[49m\u001b[43m)\u001b[49m)\n",
      "Cell \u001b[0;32mIn[2], line 43\u001b[0m, in \u001b[0;36msimulation2.phase_integral.<locals>.f_tot\u001b[0;34m(t_prime)\u001b[0m\n\u001b[1;32m     42\u001b[0m \u001b[38;5;28;01mdef\u001b[39;00m \u001b[38;5;21mf_tot\u001b[39m(t_prime):\n\u001b[0;32m---> 43\u001b[0m     \u001b[38;5;28;01mreturn\u001b[39;00m \u001b[38;5;28;43mself\u001b[39;49m\u001b[38;5;241;43m.\u001b[39;49m\u001b[43mouter\u001b[49m\u001b[43m(\u001b[49m\u001b[43mt_prime\u001b[49m\u001b[43m,\u001b[49m\u001b[43mk\u001b[49m\u001b[43m)\u001b[49m\n",
      "Cell \u001b[0;32mIn[2], line 33\u001b[0m, in \u001b[0;36msimulation2.outer\u001b[0;34m(self, t_prime, k)\u001b[0m\n\u001b[1;32m     32\u001b[0m \u001b[38;5;28;01mdef\u001b[39;00m \u001b[38;5;21mouter\u001b[39m(\u001b[38;5;28mself\u001b[39m,t_prime,k):\n\u001b[0;32m---> 33\u001b[0m     A_val \u001b[38;5;241m=\u001b[39m \u001b[38;5;28;43mself\u001b[39;49m\u001b[38;5;241;43m.\u001b[39;49m\u001b[43mA\u001b[49m\u001b[43m(\u001b[49m\u001b[43mt_prime\u001b[49m\u001b[43m)\u001b[49m\n\u001b[1;32m     34\u001b[0m     \u001b[38;5;28;01mdef\u001b[39;00m \u001b[38;5;21mexp_tot\u001b[39m (t_prime):\n\u001b[1;32m     35\u001b[0m         \u001b[38;5;28;01mreturn\u001b[39;00m np\u001b[38;5;241m.\u001b[39mexp(\u001b[38;5;241m1\u001b[39mj\u001b[38;5;241m*\u001b[39m \u001b[38;5;28mself\u001b[39m\u001b[38;5;241m.\u001b[39minner(t_prime,k)\u001b[38;5;241m/\u001b[39m\u001b[38;5;241m2\u001b[39m \u001b[38;5;241m-\u001b[39m\u001b[38;5;241m1\u001b[39mj\u001b[38;5;241m*\u001b[39m\u001b[38;5;28mself\u001b[39m\u001b[38;5;241m.\u001b[39mE0 \u001b[38;5;241m*\u001b[39m(t_prime\u001b[38;5;241m-\u001b[39m\u001b[38;5;28mself\u001b[39m\u001b[38;5;241m.\u001b[39mt0))\n",
      "Cell \u001b[0;32mIn[3], line 10\u001b[0m, in \u001b[0;36mA\u001b[0;34m(t)\u001b[0m\n\u001b[1;32m      8\u001b[0m t \u001b[38;5;241m=\u001b[39m np\u001b[38;5;241m.\u001b[39masarray(t)\n\u001b[1;32m      9\u001b[0m sin_t \u001b[38;5;241m=\u001b[39m np\u001b[38;5;241m.\u001b[39msin(omega_L \u001b[38;5;241m*\u001b[39m t)\n\u001b[0;32m---> 10\u001b[0m A_vals \u001b[38;5;241m=\u001b[39m np\u001b[38;5;241m.\u001b[39mzeros((\u001b[38;5;28;43mlen\u001b[39;49m\u001b[43m(\u001b[49m\u001b[43mt\u001b[49m\u001b[43m)\u001b[49m, \u001b[38;5;241m3\u001b[39m))  \u001b[38;5;66;03m# shape (N, 3)\u001b[39;00m\n\u001b[1;32m     12\u001b[0m A_vals[:, \u001b[38;5;241m0\u001b[39m] \u001b[38;5;241m=\u001b[39m \u001b[38;5;241m0.0\u001b[39m\n\u001b[1;32m     13\u001b[0m A_vals[:, \u001b[38;5;241m1\u001b[39m] \u001b[38;5;241m=\u001b[39m sin_t \u001b[38;5;241m*\u001b[39m np\u001b[38;5;241m.\u001b[39msin(omega_L \u001b[38;5;241m*\u001b[39m t) \u001b[38;5;241m*\u001b[39m eps\n",
      "\u001b[0;31mTypeError\u001b[0m: len() of unsized object"
     ]
    }
   ],
   "source": [
    "import matplotlib.pyplot as plt\n",
    "\n",
    "# Assuming `matrix` is your result from `calc_matrix()`\n",
    "matrix = sim2.calc_matrix()\n",
    "\n",
    "# Slice at k_z = 0 (only one slice in this case)\n",
    "plt.imshow(matrix[:, :, 0], extent=(k_x[0], k_x[-1], k_y[0], k_y[-1]), origin='lower', cmap='viridis')\n",
    "plt.colorbar(label='|Amplitude|²')\n",
    "plt.xlabel('$k_x$')\n",
    "plt.ylabel('$k_y$')\n",
    "plt.title('Momentum Amplitude Squared')\n",
    "plt.show()\n"
   ]
  },
  {
   "cell_type": "code",
   "execution_count": null,
   "id": "84bcf704",
   "metadata": {},
   "outputs": [],
   "source": []
  },
  {
   "cell_type": "code",
   "execution_count": null,
   "id": "f6ecf413",
   "metadata": {},
   "outputs": [],
   "source": []
  }
 ],
 "metadata": {
  "kernelspec": {
   "display_name": "Python 3",
   "language": "python",
   "name": "python3"
  },
  "language_info": {
   "codemirror_mode": {
    "name": "ipython",
    "version": 3
   },
   "file_extension": ".py",
   "mimetype": "text/x-python",
   "name": "python",
   "nbconvert_exporter": "python",
   "pygments_lexer": "ipython3",
   "version": "3.9.6"
  }
 },
 "nbformat": 4,
 "nbformat_minor": 5
}
